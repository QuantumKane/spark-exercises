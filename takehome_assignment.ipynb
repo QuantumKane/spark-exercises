{
 "cells": [
  {
   "cell_type": "code",
   "execution_count": null,
   "metadata": {},
   "outputs": [],
   "source": [
    "# Write a function named norm that takes in a list of numbers and returns the Euclidean norm of those numbers.\n",
    "# The Euclidean norm is defined as the square root of the sum of squaring all of the numbers in a list of numbers.\n",
    "# For a list of 2 numbers, the norm is the same as calculating the length of the hypotenuse of a right triangle with sides of the 2 given lengths (see Pythagorean Theorum)\n",
    "# For a list of 3 numbers, the norm would be the extension of this: d^2 = a^2 + b^2 + c^2\n",
    "\n",
    "# The algorithm is 3 steps:\n",
    "# Step 1: Square every number in a list of numbers.\n",
    "# Step 2: Sum all the squares together.\n",
    "# Step 3: Take the square root of that sum.\n",
    "# Your function needs to operate on a number list of any length."
   ]
  },
  {
   "cell_type": "code",
   "execution_count": 15,
   "metadata": {},
   "outputs": [],
   "source": [
    "import pandas as pd\n",
    "from math import sqrt"
   ]
  },
  {
   "cell_type": "code",
   "execution_count": 18,
   "metadata": {},
   "outputs": [],
   "source": [
    "def norm(nums):\n",
    "    '''\n",
    "    This function takes in a list of numbers, takes a running sum \n",
    "    of the squares and returns the square root of the sum\n",
    "    '''\n",
    "    sum = 0\n",
    "    for num in nums:\n",
    "        sum += (num ** 2)\n",
    "    sq_rt = sqrt(sum)\n",
    "    return sq_rt"
   ]
  },
  {
   "cell_type": "code",
   "execution_count": 22,
   "metadata": {},
   "outputs": [
    {
     "name": "stdout",
     "output_type": "stream",
     "text": [
      "Exercise is complete.\n"
     ]
    }
   ],
   "source": [
    "assert norm([0, 0]) == 0 # because the square root of 0 is 0.\n",
    "assert norm([3, 4]) == 5 # because 9 + 16 is 25 and the square root of 25 is 5.\n",
    "assert norm([0, 0, 1]) == 1 # because the square root of 1 is 1.\n",
    "assert norm([1, 2, 3, 4, 5, 6, 7 ]) == 11.832159566199232\n",
    "assert norm([5, 5, 5]) == 8.660254037844387\n",
    "assert norm([5, 5, 5, 5]) == 10\n",
    "assert norm([4, 5, 7]) == 9.486832980505138\n",
    "assert norm([3, 6, 9]) == 11.224972160321824\n",
    "assert norm([-10, 42, 25, 7, 8, 9, -29, 10]) == 60.199667773169644\n",
    "print(\"Exercise is complete.\")"
   ]
  },
  {
   "cell_type": "code",
   "execution_count": null,
   "metadata": {},
   "outputs": [],
   "source": []
  }
 ],
 "metadata": {
  "kernelspec": {
   "display_name": "Python 3",
   "language": "python",
   "name": "python3"
  },
  "language_info": {
   "codemirror_mode": {
    "name": "ipython",
    "version": 3
   },
   "file_extension": ".py",
   "mimetype": "text/x-python",
   "name": "python",
   "nbconvert_exporter": "python",
   "pygments_lexer": "ipython3",
   "version": "3.7.4"
  }
 },
 "nbformat": 4,
 "nbformat_minor": 4
}
