{
 "cells": [
  {
   "cell_type": "code",
   "execution_count": 2,
   "metadata": {},
   "outputs": [],
   "source": [
    "# Create the spark session\n",
    "from pyspark.sql import SparkSession\n",
    "from pyspark.sql.functions import *\n",
    "\n",
    "spark = SparkSession.builder.getOrCreate()"
   ]
  },
  {
   "cell_type": "markdown",
   "metadata": {},
   "source": [
    "### 1. Read the case, department, and source data into their own spark dataframes"
   ]
  },
  {
   "cell_type": "code",
   "execution_count": 3,
   "metadata": {},
   "outputs": [
    {
     "name": "stdout",
     "output_type": "stream",
     "text": [
      "-RECORD 0------------------------------------\n",
      " case_id              | 1014127332           \n",
      " case_opened_date     | 1/1/18 0:42          \n",
      " case_closed_date     | 1/1/18 12:29         \n",
      " SLA_due_date         | 9/26/20 0:42         \n",
      " case_late            | NO                   \n",
      " num_days_late        | -998.5087616000001   \n",
      " case_closed          | YES                  \n",
      " dept_division        | Field Operations     \n",
      " service_request_type | Stray Animal         \n",
      " SLA_days             | 999.0                \n",
      " case_status          | Closed               \n",
      " source_id            | svcCRMLS             \n",
      " request_address      | 2315  EL PASO ST,... \n",
      " council_district     | 5                    \n",
      "-RECORD 1------------------------------------\n",
      " case_id              | 1014127333           \n",
      " case_opened_date     | 1/1/18 0:46          \n",
      " case_closed_date     | 1/3/18 8:11          \n",
      " SLA_due_date         | 1/5/18 8:30          \n",
      " case_late            | NO                   \n",
      " num_days_late        | -2.0126041669999997  \n",
      " case_closed          | YES                  \n",
      " dept_division        | Storm Water          \n",
      " service_request_type | Removal Of Obstru... \n",
      " SLA_days             | 4.322222222          \n",
      " case_status          | Closed               \n",
      " source_id            | svcCRMSS             \n",
      " request_address      | 2215  GOLIAD RD, ... \n",
      " council_district     | 3                    \n",
      "only showing top 2 rows\n",
      "\n"
     ]
    }
   ],
   "source": [
    "case = spark.read.csv(\"case.csv\", header=True, inferSchema=True)\n",
    "case.show(2, vertical=True)"
   ]
  },
  {
   "cell_type": "code",
   "execution_count": 4,
   "metadata": {},
   "outputs": [
    {
     "name": "stdout",
     "output_type": "stream",
     "text": [
      "-RECORD 0--------------------------------------\n",
      " dept_division          | 311 Call Center      \n",
      " dept_name              | Customer Service     \n",
      " standardized_dept_name | Customer Service     \n",
      " dept_subject_to_SLA    | YES                  \n",
      "-RECORD 1--------------------------------------\n",
      " dept_division          | Brush                \n",
      " dept_name              | Solid Waste Manag... \n",
      " standardized_dept_name | Solid Waste          \n",
      " dept_subject_to_SLA    | YES                  \n",
      "only showing top 2 rows\n",
      "\n"
     ]
    }
   ],
   "source": [
    "dept = spark.read.csv(\"dept.csv\", header=True, inferSchema=True)\n",
    "dept.show(2, vertical=True)"
   ]
  },
  {
   "cell_type": "code",
   "execution_count": 5,
   "metadata": {},
   "outputs": [
    {
     "name": "stdout",
     "output_type": "stream",
     "text": [
      "-RECORD 0---------------------------\n",
      " source_id       | 100137           \n",
      " source_username | Merlene Blodgett \n",
      "-RECORD 1---------------------------\n",
      " source_id       | 103582           \n",
      " source_username | Carmen Cura      \n",
      "only showing top 2 rows\n",
      "\n"
     ]
    }
   ],
   "source": [
    "source = spark.read.csv(\"source.csv\", header=True, inferSchema=True)\n",
    "source.show(2, vertical=True)"
   ]
  },
  {
   "cell_type": "markdown",
   "metadata": {},
   "source": [
    "### 2. Let's see how writing to the local disk works in spark:\n",
    "\n",
    "- Write the code necessary to store the source data in both csv and json format, store these as sources_csv and sources_json"
   ]
  },
  {
   "cell_type": "code",
   "execution_count": 6,
   "metadata": {},
   "outputs": [],
   "source": [
    "source.write.json(\"data/source_json\", mode=\"overwrite\")"
   ]
  },
  {
   "cell_type": "markdown",
   "metadata": {},
   "source": [
    "### 3. Inspect the data in your dataframes. Are the data types appropriate? Write the code necessary to cast the values to the appropriate types."
   ]
  },
  {
   "cell_type": "code",
   "execution_count": 7,
   "metadata": {},
   "outputs": [
    {
     "name": "stdout",
     "output_type": "stream",
     "text": [
      "root\n",
      " |-- source_id: string (nullable = true)\n",
      " |-- source_username: string (nullable = true)\n",
      "\n",
      "root\n",
      " |-- case_id: integer (nullable = true)\n",
      " |-- case_opened_date: string (nullable = true)\n",
      " |-- case_closed_date: string (nullable = true)\n",
      " |-- SLA_due_date: string (nullable = true)\n",
      " |-- case_late: string (nullable = true)\n",
      " |-- num_days_late: double (nullable = true)\n",
      " |-- case_closed: string (nullable = true)\n",
      " |-- dept_division: string (nullable = true)\n",
      " |-- service_request_type: string (nullable = true)\n",
      " |-- SLA_days: double (nullable = true)\n",
      " |-- case_status: string (nullable = true)\n",
      " |-- source_id: string (nullable = true)\n",
      " |-- request_address: string (nullable = true)\n",
      " |-- council_district: integer (nullable = true)\n",
      "\n",
      "root\n",
      " |-- dept_division: string (nullable = true)\n",
      " |-- dept_name: string (nullable = true)\n",
      " |-- standardized_dept_name: string (nullable = true)\n",
      " |-- dept_subject_to_SLA: string (nullable = true)\n",
      "\n"
     ]
    },
    {
     "data": {
      "text/plain": [
       "(None, None, None)"
      ]
     },
     "execution_count": 7,
     "metadata": {},
     "output_type": "execute_result"
    }
   ],
   "source": [
    "source.printSchema(), case.printSchema(), dept.printSchema()"
   ]
  },
  {
   "cell_type": "code",
   "execution_count": 8,
   "metadata": {},
   "outputs": [
    {
     "name": "stdout",
     "output_type": "stream",
     "text": [
      "+---------+--------------------+\n",
      "|source_id|     source_username|\n",
      "+---------+--------------------+\n",
      "|   100137|    Merlene Blodgett|\n",
      "|   103582|         Carmen Cura|\n",
      "|   106463|     Richard Sanchez|\n",
      "|   119403|      Betty De Hoyos|\n",
      "|   119555|      Socorro Quiara|\n",
      "|   119868| Michelle San Miguel|\n",
      "|   120752|      Eva T. Kleiber|\n",
      "|   124405|           Lori Lara|\n",
      "|   132408|       Leonard Silva|\n",
      "|   135723|        Amy Cardenas|\n",
      "|   136202|    Michelle Urrutia|\n",
      "|   136979|      Leticia Garcia|\n",
      "|   137943|    Pamela K. Baccus|\n",
      "|   138605|        Marisa Ozuna|\n",
      "|   138650|      Kimberly Green|\n",
      "|   138650|Kimberly Green-Woods|\n",
      "|   138793| Guadalupe Rodriguez|\n",
      "|   138810|       Tawona Martin|\n",
      "|   139342|     Jessica Mendoza|\n",
      "|   139344|        Isis Mendoza|\n",
      "+---------+--------------------+\n",
      "only showing top 20 rows\n",
      "\n",
      "root\n",
      " |-- source_id: string (nullable = true)\n",
      " |-- source_username: string (nullable = true)\n",
      "\n"
     ]
    },
    {
     "data": {
      "text/plain": [
       "(None, None)"
      ]
     },
     "execution_count": 8,
     "metadata": {},
     "output_type": "execute_result"
    }
   ],
   "source": [
    "source.show(), source.printSchema()"
   ]
  },
  {
   "cell_type": "code",
   "execution_count": 9,
   "metadata": {},
   "outputs": [
    {
     "name": "stdout",
     "output_type": "stream",
     "text": [
      "+--------------------+--------------------+----------------------+-------------------+\n",
      "|       dept_division|           dept_name|standardized_dept_name|dept_subject_to_SLA|\n",
      "+--------------------+--------------------+----------------------+-------------------+\n",
      "|     311 Call Center|    Customer Service|      Customer Service|                YES|\n",
      "|               Brush|Solid Waste Manag...|           Solid Waste|                YES|\n",
      "|     Clean and Green|Parks and Recreation|    Parks & Recreation|                YES|\n",
      "|Clean and Green N...|Parks and Recreation|    Parks & Recreation|                YES|\n",
      "|    Code Enforcement|Code Enforcement ...|  DSD/Code Enforcement|                YES|\n",
      "|Code Enforcement ...|Code Enforcement ...|  DSD/Code Enforcement|                YES|\n",
      "|Code Enforcement ...|                null|  DSD/Code Enforcement|                YES|\n",
      "|   Dangerous Premise|Code Enforcement ...|  DSD/Code Enforcement|                YES|\n",
      "|Dangerous Premise...|Code Enforcement ...|  DSD/Code Enforcement|                YES|\n",
      "|Director's Office...|Trans & Cap Impro...|  Trans & Cap Impro...|                YES|\n",
      "|          District 1|        City Council|          City Council|                 NO|\n",
      "|         District 10|        City Council|          City Council|                 NO|\n",
      "|          District 2|        City Council|          City Council|                 NO|\n",
      "|          District 3|        City Council|          City Council|                 NO|\n",
      "|          District 6|        City Council|          City Council|                 NO|\n",
      "|          District 7|        City Council|          City Council|                 NO|\n",
      "|          District 8|        City Council|          City Council|                 NO|\n",
      "|          District 9|        City Council|          City Council|                 NO|\n",
      "|Engineering Division|Development Services|  DSD/Code Enforcement|                YES|\n",
      "|    Facility License|        Metro Health|          Metro Health|                YES|\n",
      "+--------------------+--------------------+----------------------+-------------------+\n",
      "only showing top 20 rows\n",
      "\n",
      "root\n",
      " |-- dept_division: string (nullable = true)\n",
      " |-- dept_name: string (nullable = true)\n",
      " |-- standardized_dept_name: string (nullable = true)\n",
      " |-- dept_subject_to_SLA: string (nullable = true)\n",
      "\n"
     ]
    },
    {
     "data": {
      "text/plain": [
       "(None, None)"
      ]
     },
     "execution_count": 9,
     "metadata": {},
     "output_type": "execute_result"
    }
   ],
   "source": [
    "dept.show(), dept.printSchema()"
   ]
  },
  {
   "cell_type": "code",
   "execution_count": 10,
   "metadata": {},
   "outputs": [
    {
     "name": "stdout",
     "output_type": "stream",
     "text": [
      "+----------+----------------+----------------+------------+---------+-------------------+-----------+----------------+--------------------+------------------+-----------+---------+--------------------+----------------+\n",
      "|   case_id|case_opened_date|case_closed_date|SLA_due_date|case_late|      num_days_late|case_closed|   dept_division|service_request_type|          SLA_days|case_status|source_id|     request_address|council_district|\n",
      "+----------+----------------+----------------+------------+---------+-------------------+-----------+----------------+--------------------+------------------+-----------+---------+--------------------+----------------+\n",
      "|1014127332|     1/1/18 0:42|    1/1/18 12:29|9/26/20 0:42|       NO| -998.5087616000001|        YES|Field Operations|        Stray Animal|             999.0|     Closed| svcCRMLS|2315  EL PASO ST,...|               5|\n",
      "|1014127333|     1/1/18 0:46|     1/3/18 8:11| 1/5/18 8:30|       NO|-2.0126041669999997|        YES|     Storm Water|Removal Of Obstru...|       4.322222222|     Closed| svcCRMSS|2215  GOLIAD RD, ...|               3|\n",
      "|1014127334|     1/1/18 0:48|     1/2/18 7:57| 1/5/18 8:30|       NO|       -3.022337963|        YES|     Storm Water|Removal Of Obstru...|       4.320729167|     Closed| svcCRMSS|102  PALFREY ST W...|               3|\n",
      "|1014127335|     1/1/18 1:29|     1/2/18 8:13|1/17/18 8:30|       NO|       -15.01148148|        YES|Code Enforcement|Front Or Side Yar...|       16.29188657|     Closed| svcCRMSS|114  LA GARDE ST,...|               3|\n",
      "|1014127336|     1/1/18 1:34|    1/1/18 13:29| 1/1/18 4:34|      YES|0.37216435200000003|        YES|Field Operations|Animal Cruelty(Cr...|             0.125|     Closed| svcCRMSS|734  CLEARVIEW DR...|               7|\n",
      "|1014127337|     1/1/18 6:28|    1/1/18 14:38|1/31/18 8:30|       NO|       -29.74398148|        YES|         Signals|Traffic Signal Op...|       30.08446759|     Closed| svcCRMSS|BANDERA RD and BR...|               7|\n",
      "|1014127338|     1/1/18 6:57|    1/2/18 15:32|1/17/18 8:30|       NO|       -14.70673611|        YES|Code Enforcement|Front Or Side Yar...|       16.06429398|     Closed| svcCRMSS|10133  FIGARO CAN...|               4|\n",
      "|1014127339|     1/1/18 6:58|    1/2/18 15:32|1/17/18 8:30|       NO|       -14.70662037|        YES|Code Enforcement|Front Or Side Yar...|16.063796300000003|     Closed| svcCRMSS|10133  FIGARO CAN...|               4|\n",
      "|1014127340|     1/1/18 6:58|    1/2/18 15:32|1/17/18 8:30|       NO|       -14.70662037|        YES|Code Enforcement|Right Of Way/Side...|       16.06333333|     Closed| svcCRMSS|10133  FIGARO CAN...|               4|\n",
      "|1014127341|     1/1/18 6:59|    1/2/18 15:32|1/17/18 8:30|       NO|       -14.70649306|        YES|Code Enforcement|Front Or Side Yar...|        16.0628588|     Closed| svcCRMSS|10133  FIGARO CAN...|               4|\n",
      "|1014127342|     1/1/18 7:00|    1/2/18 15:32|1/17/18 8:30|       NO|       -14.70649306|        YES|Code Enforcement|Front Or Side Yar...|       16.06237269|     Closed| svcCRMSS|10133  FIGARO CAN...|               4|\n",
      "|1014127343|     1/1/18 7:02|    1/2/18 15:32|1/17/18 8:30|       NO|       -14.70636574|        YES|Code Enforcement|Right Of Way/Side...|       16.06104167|     Closed| svcCRMSS|10133  FIGARO CAN...|               4|\n",
      "|1014127344|     1/1/18 7:02|    1/2/18 15:33|1/17/18 8:30|       NO|          -14.70625|        YES|Code Enforcement|Front Or Side Yar...|       16.06059028|     Closed| svcCRMSS|10129  BOXING PAS...|               4|\n",
      "|1014127345|     1/1/18 7:03|    1/2/18 15:32|1/17/18 8:30|       NO|       -14.70636574|        YES|Code Enforcement|Front Or Side Yar...|       16.06011574|     Closed| svcCRMSS|10129  BOXING PAS...|               4|\n",
      "|1014127346|     1/1/18 7:04|    1/2/18 15:33|1/17/18 8:30|       NO|       -14.70623843|        YES|Code Enforcement|Right Of Way/Side...|       16.05953704|     Closed| svcCRMSS|10129  BOXING PAS...|               4|\n",
      "|1014127347|     1/1/18 7:04|    1/2/18 15:33|1/17/18 8:30|       NO|-14.705891199999998|        YES|Code Enforcement|Front Or Side Yar...|       16.05907407|     Closed| svcCRMSS|834  BARREL POINT...|               4|\n",
      "|1014127348|     1/1/18 7:05|    1/2/18 15:33|1/17/18 8:30|       NO|       -14.70600694|        YES|Code Enforcement|Front Or Side Yar...|       16.05864583|     Closed| svcCRMSS|834  BARREL POINT...|               4|\n",
      "|1014127349|     1/1/18 7:06|    1/2/18 15:33|1/17/18 8:30|       NO|       -14.70576389|        YES|Code Enforcement|Right Of Way/Side...|       16.05819444|     Closed| svcCRMSS|834  BARREL POINT...|               4|\n",
      "|1014127350|     1/1/18 7:06|    1/2/18 15:33|1/17/18 8:30|       NO|       -14.70576389|        YES|Code Enforcement|Front Or Side Yar...|       16.05775463|     Closed| svcCRMSS|834  BARREL POINT...|               4|\n",
      "|1014127351|     1/1/18 7:07|    1/2/18 15:33|1/17/18 8:30|       NO|       -14.70564815|        YES|Code Enforcement|Front Or Side Yar...|       16.05733796|     Closed| svcCRMSS|834  BARREL POINT...|               4|\n",
      "+----------+----------------+----------------+------------+---------+-------------------+-----------+----------------+--------------------+------------------+-----------+---------+--------------------+----------------+\n",
      "only showing top 20 rows\n",
      "\n",
      "root\n",
      " |-- case_id: integer (nullable = true)\n",
      " |-- case_opened_date: string (nullable = true)\n",
      " |-- case_closed_date: string (nullable = true)\n",
      " |-- SLA_due_date: string (nullable = true)\n",
      " |-- case_late: string (nullable = true)\n",
      " |-- num_days_late: double (nullable = true)\n",
      " |-- case_closed: string (nullable = true)\n",
      " |-- dept_division: string (nullable = true)\n",
      " |-- service_request_type: string (nullable = true)\n",
      " |-- SLA_days: double (nullable = true)\n",
      " |-- case_status: string (nullable = true)\n",
      " |-- source_id: string (nullable = true)\n",
      " |-- request_address: string (nullable = true)\n",
      " |-- council_district: integer (nullable = true)\n",
      "\n"
     ]
    },
    {
     "data": {
      "text/plain": [
       "(None, None)"
      ]
     },
     "execution_count": 10,
     "metadata": {},
     "output_type": "execute_result"
    }
   ],
   "source": [
    "case.show(), case.printSchema()"
   ]
  },
  {
   "cell_type": "markdown",
   "metadata": {},
   "source": [
    "### 3-1. How old is the latest (in terms of days past SLA) currently open issue? How long has the oldest (in terms of days since opened) currently opened issue been open?"
   ]
  },
  {
   "cell_type": "code",
   "execution_count": 11,
   "metadata": {},
   "outputs": [
    {
     "data": {
      "text/plain": [
       "case_closed\n",
       "YES            823594\n",
       "NO              18110\n",
       "dtype: int64"
      ]
     },
     "execution_count": 11,
     "metadata": {},
     "output_type": "execute_result"
    }
   ],
   "source": [
    "case.select(case.case_closed).toPandas().value_counts()"
   ]
  },
  {
   "cell_type": "code",
   "execution_count": 12,
   "metadata": {},
   "outputs": [
    {
     "name": "stdout",
     "output_type": "stream",
     "text": [
      "+------------------+\n",
      "|min(num_days_late)|\n",
      "+------------------+\n",
      "|       0.060810185|\n",
      "+------------------+\n",
      "\n"
     ]
    }
   ],
   "source": [
    "case.where((case.case_closed == 'NO') & (case.num_days_late > 0)).select(min(case.num_days_late)).show()"
   ]
  },
  {
   "cell_type": "code",
   "execution_count": 13,
   "metadata": {},
   "outputs": [
    {
     "name": "stdout",
     "output_type": "stream",
     "text": [
      "+------------------+\n",
      "|max(num_days_late)|\n",
      "+------------------+\n",
      "|       348.6458333|\n",
      "+------------------+\n",
      "\n"
     ]
    }
   ],
   "source": [
    "case.where(case.case_closed == 'NO').select(max(case.num_days_late)).show()"
   ]
  },
  {
   "cell_type": "markdown",
   "metadata": {},
   "source": [
    "### 3-2 How many Stray Animal cases are there?"
   ]
  },
  {
   "cell_type": "code",
   "execution_count": 15,
   "metadata": {},
   "outputs": [
    {
     "name": "stdout",
     "output_type": "stream",
     "text": [
      "+--------------------+-----+\n",
      "|service_request_type|count|\n",
      "+--------------------+-----+\n",
      "|Stray Animal        |26760|\n",
      "+--------------------+-----+\n",
      "\n"
     ]
    }
   ],
   "source": [
    "case.select('service_request_type').groupBy('service_request_type').count().where(case.service_request_type == 'Stray Animal').show(truncate=False)"
   ]
  },
  {
   "cell_type": "markdown",
   "metadata": {},
   "source": [
    "### 3-3 How many service requests that are assigned to the Field Operations department (dept_division) are not classified as \"Officer Standby\" request type "
   ]
  },
  {
   "cell_type": "code",
   "execution_count": 17,
   "metadata": {},
   "outputs": [
    {
     "data": {
      "text/plain": [
       "113902"
      ]
     },
     "execution_count": 17,
     "metadata": {},
     "output_type": "execute_result"
    }
   ],
   "source": [
    "case.select('service_request_type').where(case.dept_division == 'Field Operations').where(case.service_request_type != 'Officer Standby').count()"
   ]
  },
  {
   "cell_type": "markdown",
   "metadata": {},
   "source": [
    "### 3-4 Convert the council_district column to a string column"
   ]
  },
  {
   "cell_type": "code",
   "execution_count": 18,
   "metadata": {},
   "outputs": [
    {
     "name": "stdout",
     "output_type": "stream",
     "text": [
      "+----------+----------------+----------------+------------+---------+-------------------+-----------+----------------+--------------------+------------------+-----------+---------+--------------------+--------------------+\n",
      "|   case_id|case_opened_date|case_closed_date|SLA_due_date|case_late|      num_days_late|case_closed|   dept_division|service_request_type|          SLA_days|case_status|source_id|     request_address|council_district_str|\n",
      "+----------+----------------+----------------+------------+---------+-------------------+-----------+----------------+--------------------+------------------+-----------+---------+--------------------+--------------------+\n",
      "|1014127332|     1/1/18 0:42|    1/1/18 12:29|9/26/20 0:42|       NO| -998.5087616000001|        YES|Field Operations|        Stray Animal|             999.0|     Closed| svcCRMLS|2315  EL PASO ST,...|                   5|\n",
      "|1014127333|     1/1/18 0:46|     1/3/18 8:11| 1/5/18 8:30|       NO|-2.0126041669999997|        YES|     Storm Water|Removal Of Obstru...|       4.322222222|     Closed| svcCRMSS|2215  GOLIAD RD, ...|                   3|\n",
      "|1014127334|     1/1/18 0:48|     1/2/18 7:57| 1/5/18 8:30|       NO|       -3.022337963|        YES|     Storm Water|Removal Of Obstru...|       4.320729167|     Closed| svcCRMSS|102  PALFREY ST W...|                   3|\n",
      "|1014127335|     1/1/18 1:29|     1/2/18 8:13|1/17/18 8:30|       NO|       -15.01148148|        YES|Code Enforcement|Front Or Side Yar...|       16.29188657|     Closed| svcCRMSS|114  LA GARDE ST,...|                   3|\n",
      "|1014127336|     1/1/18 1:34|    1/1/18 13:29| 1/1/18 4:34|      YES|0.37216435200000003|        YES|Field Operations|Animal Cruelty(Cr...|             0.125|     Closed| svcCRMSS|734  CLEARVIEW DR...|                   7|\n",
      "|1014127337|     1/1/18 6:28|    1/1/18 14:38|1/31/18 8:30|       NO|       -29.74398148|        YES|         Signals|Traffic Signal Op...|       30.08446759|     Closed| svcCRMSS|BANDERA RD and BR...|                   7|\n",
      "|1014127338|     1/1/18 6:57|    1/2/18 15:32|1/17/18 8:30|       NO|       -14.70673611|        YES|Code Enforcement|Front Or Side Yar...|       16.06429398|     Closed| svcCRMSS|10133  FIGARO CAN...|                   4|\n",
      "|1014127339|     1/1/18 6:58|    1/2/18 15:32|1/17/18 8:30|       NO|       -14.70662037|        YES|Code Enforcement|Front Or Side Yar...|16.063796300000003|     Closed| svcCRMSS|10133  FIGARO CAN...|                   4|\n",
      "|1014127340|     1/1/18 6:58|    1/2/18 15:32|1/17/18 8:30|       NO|       -14.70662037|        YES|Code Enforcement|Right Of Way/Side...|       16.06333333|     Closed| svcCRMSS|10133  FIGARO CAN...|                   4|\n",
      "|1014127341|     1/1/18 6:59|    1/2/18 15:32|1/17/18 8:30|       NO|       -14.70649306|        YES|Code Enforcement|Front Or Side Yar...|        16.0628588|     Closed| svcCRMSS|10133  FIGARO CAN...|                   4|\n",
      "|1014127342|     1/1/18 7:00|    1/2/18 15:32|1/17/18 8:30|       NO|       -14.70649306|        YES|Code Enforcement|Front Or Side Yar...|       16.06237269|     Closed| svcCRMSS|10133  FIGARO CAN...|                   4|\n",
      "|1014127343|     1/1/18 7:02|    1/2/18 15:32|1/17/18 8:30|       NO|       -14.70636574|        YES|Code Enforcement|Right Of Way/Side...|       16.06104167|     Closed| svcCRMSS|10133  FIGARO CAN...|                   4|\n",
      "|1014127344|     1/1/18 7:02|    1/2/18 15:33|1/17/18 8:30|       NO|          -14.70625|        YES|Code Enforcement|Front Or Side Yar...|       16.06059028|     Closed| svcCRMSS|10129  BOXING PAS...|                   4|\n",
      "|1014127345|     1/1/18 7:03|    1/2/18 15:32|1/17/18 8:30|       NO|       -14.70636574|        YES|Code Enforcement|Front Or Side Yar...|       16.06011574|     Closed| svcCRMSS|10129  BOXING PAS...|                   4|\n",
      "|1014127346|     1/1/18 7:04|    1/2/18 15:33|1/17/18 8:30|       NO|       -14.70623843|        YES|Code Enforcement|Right Of Way/Side...|       16.05953704|     Closed| svcCRMSS|10129  BOXING PAS...|                   4|\n",
      "|1014127347|     1/1/18 7:04|    1/2/18 15:33|1/17/18 8:30|       NO|-14.705891199999998|        YES|Code Enforcement|Front Or Side Yar...|       16.05907407|     Closed| svcCRMSS|834  BARREL POINT...|                   4|\n",
      "|1014127348|     1/1/18 7:05|    1/2/18 15:33|1/17/18 8:30|       NO|       -14.70600694|        YES|Code Enforcement|Front Or Side Yar...|       16.05864583|     Closed| svcCRMSS|834  BARREL POINT...|                   4|\n",
      "|1014127349|     1/1/18 7:06|    1/2/18 15:33|1/17/18 8:30|       NO|       -14.70576389|        YES|Code Enforcement|Right Of Way/Side...|       16.05819444|     Closed| svcCRMSS|834  BARREL POINT...|                   4|\n",
      "|1014127350|     1/1/18 7:06|    1/2/18 15:33|1/17/18 8:30|       NO|       -14.70576389|        YES|Code Enforcement|Front Or Side Yar...|       16.05775463|     Closed| svcCRMSS|834  BARREL POINT...|                   4|\n",
      "|1014127351|     1/1/18 7:07|    1/2/18 15:33|1/17/18 8:30|       NO|       -14.70564815|        YES|Code Enforcement|Front Or Side Yar...|       16.05733796|     Closed| svcCRMSS|834  BARREL POINT...|                   4|\n",
      "+----------+----------------+----------------+------------+---------+-------------------+-----------+----------------+--------------------+------------------+-----------+---------+--------------------+--------------------+\n",
      "only showing top 20 rows\n",
      "\n"
     ]
    }
   ],
   "source": [
    "case = case.select('*',case.council_district.cast('string').alias('council_district_str')).drop('council_district')\n",
    "case.show()"
   ]
  },
  {
   "cell_type": "markdown",
   "metadata": {},
   "source": [
    "### 3-5 Extract the year from the case_closed_date column."
   ]
  },
  {
   "cell_type": "code",
   "execution_count": 19,
   "metadata": {},
   "outputs": [],
   "source": [
    "df = case.withColumnRenamed(\"SLA_due_date\", \"case_due_date\")"
   ]
  },
  {
   "cell_type": "code",
   "execution_count": 20,
   "metadata": {},
   "outputs": [
    {
     "name": "stdout",
     "output_type": "stream",
     "text": [
      "Before handling dates\n",
      "+----------------+----------------+-------------+\n",
      "|case_opened_date|case_closed_date|case_due_date|\n",
      "+----------------+----------------+-------------+\n",
      "|     1/1/18 0:42|    1/1/18 12:29| 9/26/20 0:42|\n",
      "|     1/1/18 0:46|     1/3/18 8:11|  1/5/18 8:30|\n",
      "|     1/1/18 0:48|     1/2/18 7:57|  1/5/18 8:30|\n",
      "|     1/1/18 1:29|     1/2/18 8:13| 1/17/18 8:30|\n",
      "|     1/1/18 1:34|    1/1/18 13:29|  1/1/18 4:34|\n",
      "+----------------+----------------+-------------+\n",
      "only showing top 5 rows\n",
      "\n",
      "After handlimg dates\n",
      "+-------------------+-------------------+-------------------+\n",
      "|   case_opened_date|   case_closed_date|      case_due_date|\n",
      "+-------------------+-------------------+-------------------+\n",
      "|2018-01-01 00:42:00|2018-01-01 00:42:00|2018-01-01 00:42:00|\n",
      "|2018-01-01 00:46:00|2018-01-01 00:46:00|2018-01-01 00:46:00|\n",
      "|2018-01-01 00:48:00|2018-01-01 00:48:00|2018-01-01 00:48:00|\n",
      "|2018-01-01 01:29:00|2018-01-01 01:29:00|2018-01-01 01:29:00|\n",
      "|2018-01-01 01:34:00|2018-01-01 01:34:00|2018-01-01 01:34:00|\n",
      "+-------------------+-------------------+-------------------+\n",
      "only showing top 5 rows\n",
      "\n"
     ]
    }
   ],
   "source": [
    "print(\"Before handling dates\")\n",
    "df.select(\"case_opened_date\", \"case_closed_date\", \"case_due_date\").show(5)\n",
    "\n",
    "fmt = \"M/d/yy H:mm\"\n",
    "df = (\n",
    "    df.withColumn(\"case_opened_date\", to_timestamp(\"case_opened_date\", fmt))\n",
    "    .withColumn(\"case_closed_date\", to_timestamp(\"case_opened_date\", fmt))\n",
    "    .withColumn(\"case_due_date\", to_timestamp(\"case_opened_date\", fmt))\n",
    ")\n",
    "\n",
    "print(\"After handlimg dates\")\n",
    "df.select(\"case_opened_date\", \"case_closed_date\", \"case_due_date\").show(5)"
   ]
  },
  {
   "cell_type": "code",
   "execution_count": 21,
   "metadata": {},
   "outputs": [
    {
     "name": "stdout",
     "output_type": "stream",
     "text": [
      "+----------------------+\n",
      "|year(case_closed_date)|\n",
      "+----------------------+\n",
      "|                  2018|\n",
      "|                  2018|\n",
      "|                  2018|\n",
      "|                  2018|\n",
      "|                  2018|\n",
      "|                  2018|\n",
      "|                  2018|\n",
      "|                  2018|\n",
      "|                  2018|\n",
      "|                  2018|\n",
      "|                  2018|\n",
      "|                  2018|\n",
      "|                  2018|\n",
      "|                  2018|\n",
      "|                  2018|\n",
      "|                  2018|\n",
      "|                  2018|\n",
      "|                  2018|\n",
      "|                  2018|\n",
      "|                  2018|\n",
      "+----------------------+\n",
      "only showing top 20 rows\n",
      "\n"
     ]
    }
   ],
   "source": [
    "df.select(year(df.case_closed_date)).show()"
   ]
  },
  {
   "cell_type": "markdown",
   "metadata": {},
   "source": [
    "### 3-6 Convert num_days_late from days to hours in new columns num_hours_late."
   ]
  },
  {
   "cell_type": "code",
   "execution_count": 25,
   "metadata": {},
   "outputs": [
    {
     "name": "stdout",
     "output_type": "stream",
     "text": [
      "+----------+----------------+----------------+------------+---------+-------------------+-----------+----------------+--------------------+------------------+-----------+---------+--------------------+--------------------+--------------------+\n",
      "|   case_id|case_opened_date|case_closed_date|SLA_due_date|case_late|      num_days_late|case_closed|   dept_division|service_request_type|          SLA_days|case_status|source_id|     request_address|council_district_str|      num_hours_late|\n",
      "+----------+----------------+----------------+------------+---------+-------------------+-----------+----------------+--------------------+------------------+-----------+---------+--------------------+--------------------+--------------------+\n",
      "|1014127332|     1/1/18 0:42|    1/1/18 12:29|9/26/20 0:42|       NO| -998.5087616000001|        YES|Field Operations|        Stray Animal|             999.0|     Closed| svcCRMLS|2315  EL PASO ST,...|                   5|  -41.60453173333334|\n",
      "|1014127333|     1/1/18 0:46|     1/3/18 8:11| 1/5/18 8:30|       NO|-2.0126041669999997|        YES|     Storm Water|Removal Of Obstru...|       4.322222222|     Closed| svcCRMSS|2215  GOLIAD RD, ...|                   3|-0.08385850695833331|\n",
      "|1014127334|     1/1/18 0:48|     1/2/18 7:57| 1/5/18 8:30|       NO|       -3.022337963|        YES|     Storm Water|Removal Of Obstru...|       4.320729167|     Closed| svcCRMSS|102  PALFREY ST W...|                   3|-0.12593074845833332|\n",
      "|1014127335|     1/1/18 1:29|     1/2/18 8:13|1/17/18 8:30|       NO|       -15.01148148|        YES|Code Enforcement|Front Or Side Yar...|       16.29188657|     Closed| svcCRMSS|114  LA GARDE ST,...|                   3|        -0.625478395|\n",
      "|1014127336|     1/1/18 1:34|    1/1/18 13:29| 1/1/18 4:34|      YES|0.37216435200000003|        YES|Field Operations|Animal Cruelty(Cr...|             0.125|     Closed| svcCRMSS|734  CLEARVIEW DR...|                   7|0.015506848000000002|\n",
      "|1014127337|     1/1/18 6:28|    1/1/18 14:38|1/31/18 8:30|       NO|       -29.74398148|        YES|         Signals|Traffic Signal Op...|       30.08446759|     Closed| svcCRMSS|BANDERA RD and BR...|                   7| -1.2393325616666666|\n",
      "|1014127338|     1/1/18 6:57|    1/2/18 15:32|1/17/18 8:30|       NO|       -14.70673611|        YES|Code Enforcement|Front Or Side Yar...|       16.06429398|     Closed| svcCRMSS|10133  FIGARO CAN...|                   4|      -0.61278067125|\n",
      "|1014127339|     1/1/18 6:58|    1/2/18 15:32|1/17/18 8:30|       NO|       -14.70662037|        YES|Code Enforcement|Front Or Side Yar...|16.063796300000003|     Closed| svcCRMSS|10133  FIGARO CAN...|                   4|      -0.61277584875|\n",
      "|1014127340|     1/1/18 6:58|    1/2/18 15:32|1/17/18 8:30|       NO|       -14.70662037|        YES|Code Enforcement|Right Of Way/Side...|       16.06333333|     Closed| svcCRMSS|10133  FIGARO CAN...|                   4|      -0.61277584875|\n",
      "|1014127341|     1/1/18 6:59|    1/2/18 15:32|1/17/18 8:30|       NO|       -14.70649306|        YES|Code Enforcement|Front Or Side Yar...|        16.0628588|     Closed| svcCRMSS|10133  FIGARO CAN...|                   4| -0.6127705441666667|\n",
      "+----------+----------------+----------------+------------+---------+-------------------+-----------+----------------+--------------------+------------------+-----------+---------+--------------------+--------------------+--------------------+\n",
      "only showing top 10 rows\n",
      "\n"
     ]
    }
   ],
   "source": [
    "case.withColumn('num_hours_late', case.num_days_late / 24).show(10)"
   ]
  },
  {
   "cell_type": "markdown",
   "metadata": {},
   "source": [
    "### 3-7 Join the case data with the source and department data."
   ]
  },
  {
   "cell_type": "code",
   "execution_count": 24,
   "metadata": {},
   "outputs": [
    {
     "name": "stdout",
     "output_type": "stream",
     "text": [
      "+----------------+---------+----------+----------------+----------------+------------+---------+-------------------+-----------+--------------------+------------------+-----------+--------------------+--------------------+---------------+--------------------+----------------------+-------------------+\n",
      "|   dept_division|source_id|   case_id|case_opened_date|case_closed_date|SLA_due_date|case_late|      num_days_late|case_closed|service_request_type|          SLA_days|case_status|     request_address|council_district_str|source_username|           dept_name|standardized_dept_name|dept_subject_to_SLA|\n",
      "+----------------+---------+----------+----------------+----------------+------------+---------+-------------------+-----------+--------------------+------------------+-----------+--------------------+--------------------+---------------+--------------------+----------------------+-------------------+\n",
      "|Field Operations| svcCRMLS|1014127332|     1/1/18 0:42|    1/1/18 12:29|9/26/20 0:42|       NO| -998.5087616000001|        YES|        Stray Animal|             999.0|     Closed|2315  EL PASO ST,...|                   5|       svcCRMLS|Animal Care Services|  Animal Care Services|                YES|\n",
      "|     Storm Water| svcCRMSS|1014127333|     1/1/18 0:46|     1/3/18 8:11| 1/5/18 8:30|       NO|-2.0126041669999997|        YES|Removal Of Obstru...|       4.322222222|     Closed|2215  GOLIAD RD, ...|                   3|       svcCRMSS|Trans & Cap Impro...|  Trans & Cap Impro...|                YES|\n",
      "|     Storm Water| svcCRMSS|1014127334|     1/1/18 0:48|     1/2/18 7:57| 1/5/18 8:30|       NO|       -3.022337963|        YES|Removal Of Obstru...|       4.320729167|     Closed|102  PALFREY ST W...|                   3|       svcCRMSS|Trans & Cap Impro...|  Trans & Cap Impro...|                YES|\n",
      "|Code Enforcement| svcCRMSS|1014127335|     1/1/18 1:29|     1/2/18 8:13|1/17/18 8:30|       NO|       -15.01148148|        YES|Front Or Side Yar...|       16.29188657|     Closed|114  LA GARDE ST,...|                   3|       svcCRMSS|Code Enforcement ...|  DSD/Code Enforcement|                YES|\n",
      "|Field Operations| svcCRMSS|1014127336|     1/1/18 1:34|    1/1/18 13:29| 1/1/18 4:34|      YES|0.37216435200000003|        YES|Animal Cruelty(Cr...|             0.125|     Closed|734  CLEARVIEW DR...|                   7|       svcCRMSS|Animal Care Services|  Animal Care Services|                YES|\n",
      "|         Signals| svcCRMSS|1014127337|     1/1/18 6:28|    1/1/18 14:38|1/31/18 8:30|       NO|       -29.74398148|        YES|Traffic Signal Op...|       30.08446759|     Closed|BANDERA RD and BR...|                   7|       svcCRMSS|Trans & Cap Impro...|  Trans & Cap Impro...|                YES|\n",
      "|Code Enforcement| svcCRMSS|1014127338|     1/1/18 6:57|    1/2/18 15:32|1/17/18 8:30|       NO|       -14.70673611|        YES|Front Or Side Yar...|       16.06429398|     Closed|10133  FIGARO CAN...|                   4|       svcCRMSS|Code Enforcement ...|  DSD/Code Enforcement|                YES|\n",
      "|Code Enforcement| svcCRMSS|1014127339|     1/1/18 6:58|    1/2/18 15:32|1/17/18 8:30|       NO|       -14.70662037|        YES|Front Or Side Yar...|16.063796300000003|     Closed|10133  FIGARO CAN...|                   4|       svcCRMSS|Code Enforcement ...|  DSD/Code Enforcement|                YES|\n",
      "|Code Enforcement| svcCRMSS|1014127340|     1/1/18 6:58|    1/2/18 15:32|1/17/18 8:30|       NO|       -14.70662037|        YES|Right Of Way/Side...|       16.06333333|     Closed|10133  FIGARO CAN...|                   4|       svcCRMSS|Code Enforcement ...|  DSD/Code Enforcement|                YES|\n",
      "|Code Enforcement| svcCRMSS|1014127341|     1/1/18 6:59|    1/2/18 15:32|1/17/18 8:30|       NO|       -14.70649306|        YES|Front Or Side Yar...|        16.0628588|     Closed|10133  FIGARO CAN...|                   4|       svcCRMSS|Code Enforcement ...|  DSD/Code Enforcement|                YES|\n",
      "+----------------+---------+----------+----------------+----------------+------------+---------+-------------------+-----------+--------------------+------------------+-----------+--------------------+--------------------+---------------+--------------------+----------------------+-------------------+\n",
      "only showing top 10 rows\n",
      "\n"
     ]
    }
   ],
   "source": [
    "case_source = case.join(source, on='source_id', how='left')\n",
    "case_source_dept = case_source.join(dept, on='dept_division', how='left')\n",
    "case_source_dept.show(10)"
   ]
  },
  {
   "cell_type": "markdown",
   "metadata": {},
   "source": [
    "### 3-8 Are there any cases that do not have a request source?"
   ]
  },
  {
   "cell_type": "code",
   "execution_count": 26,
   "metadata": {},
   "outputs": [
    {
     "data": {
      "text/plain": [
       "source_username    False\n",
       "dtype: bool"
      ]
     },
     "execution_count": 26,
     "metadata": {},
     "output_type": "execute_result"
    }
   ],
   "source": [
    "case_source_dept.select(case_source_dept.source_username).toPandas().isna().any()"
   ]
  },
  {
   "cell_type": "code",
   "execution_count": 27,
   "metadata": {},
   "outputs": [
    {
     "data": {
      "text/plain": [
       "source_username \n",
       "CRM_Listener        195416\n",
       "svcCRMSS            113585\n",
       "Terri Barron         19840\n",
       "Nadine Olmos         19832\n",
       "Mary A Torres        19570\n",
       "                     ...  \n",
       "Chrissy McCain           1\n",
       "Emilie Christian         1\n",
       "Milee Ray                1\n",
       "Sergio Gonzales          1\n",
       "Janelle Lopez            1\n",
       "Length: 140, dtype: int64"
      ]
     },
     "execution_count": 27,
     "metadata": {},
     "output_type": "execute_result"
    }
   ],
   "source": [
    "case_source_dept.select(case_source_dept.source_username).toPandas().value_counts()"
   ]
  },
  {
   "cell_type": "markdown",
   "metadata": {},
   "source": [
    "### 3-9 What are the top 10 service request types in terms of number of requests?"
   ]
  },
  {
   "cell_type": "code",
   "execution_count": 28,
   "metadata": {},
   "outputs": [
    {
     "name": "stdout",
     "output_type": "stream",
     "text": [
      "+--------------------------------+-----+\n",
      "|service_request_type            |count|\n",
      "+--------------------------------+-----+\n",
      "|No Pickup                       |86855|\n",
      "|Overgrown Yard/Trash            |65895|\n",
      "|Bandit Signs                    |32910|\n",
      "|Damaged Cart                    |30338|\n",
      "|Front Or Side Yard Parking      |28794|\n",
      "|Stray Animal                    |26760|\n",
      "|Aggressive Animal(Non-Critical) |24882|\n",
      "|Cart Exchange Request           |22024|\n",
      "|Junk Vehicle On Private Property|21473|\n",
      "|Pot Hole Repair                 |20616|\n",
      "+--------------------------------+-----+\n",
      "only showing top 10 rows\n",
      "\n"
     ]
    }
   ],
   "source": [
    "case.select('service_request_type').groupBy('service_request_type').count().sort(desc('count')).show(10,truncate=False)"
   ]
  },
  {
   "cell_type": "markdown",
   "metadata": {},
   "source": [
    "### 3-10 What are the top 10 service request types in terms of average days late?"
   ]
  },
  {
   "cell_type": "code",
   "execution_count": 29,
   "metadata": {},
   "outputs": [
    {
     "name": "stdout",
     "output_type": "stream",
     "text": [
      "+--------------------------------------+-------------+\n",
      "|service_request_type                  |avg_days_late|\n",
      "+--------------------------------------+-------------+\n",
      "|Zoning: Junk Yards                    |175.96       |\n",
      "|Labeling for Used Mattress            |162.43       |\n",
      "|Record Keeping of Used Mattresses     |154.0        |\n",
      "|Signage Requied for Sale of Used Mattr|151.64       |\n",
      "|Storage of Used Mattress              |142.11       |\n",
      "|Zoning: Recycle Yard                  |135.93       |\n",
      "|Donation Container Enforcement        |131.76       |\n",
      "|License Requied Used Mattress Sales   |128.8        |\n",
      "|Traffic Signal Graffiti               |77.9         |\n",
      "|Complaint                             |72.52        |\n",
      "+--------------------------------------+-------------+\n",
      "only showing top 10 rows\n",
      "\n"
     ]
    }
   ],
   "source": [
    "case.groupBy('service_request_type').agg(round(mean(case.num_days_late),2).alias('avg_days_late')).sort(desc('avg_days_late')).show(10,truncate=False)"
   ]
  },
  {
   "cell_type": "markdown",
   "metadata": {},
   "source": [
    "### 3-11 Does number of days late depend on department?"
   ]
  },
  {
   "cell_type": "code",
   "execution_count": 30,
   "metadata": {},
   "outputs": [
    {
     "name": "stdout",
     "output_type": "stream",
     "text": [
      "+-------------------------+-------------+\n",
      "|dept_name                |avg_days_late|\n",
      "+-------------------------+-------------+\n",
      "|null                     |135.93       |\n",
      "|Customer Service         |59.74        |\n",
      "|Development Services     |13.43        |\n",
      "|Solid Waste Management   |-2.2         |\n",
      "|Metro Health             |-4.91        |\n",
      "|Parks and Recreation     |-5.25        |\n",
      "|Trans & Cap Improvements |-20.61       |\n",
      "|Code Enforcement Services|-38.7        |\n",
      "|Animal Care Services     |-226.52      |\n",
      "|City Council             |null         |\n",
      "+-------------------------+-------------+\n",
      "\n"
     ]
    }
   ],
   "source": [
    "case_source_dept.groupBy('dept_name').agg(round(mean(case_source_dept.num_days_late),2).alias('avg_days_late')).sort(desc('avg_days_late')).show(truncate=False)"
   ]
  },
  {
   "cell_type": "markdown",
   "metadata": {},
   "source": [
    "### 3-12 How do number of days late depend on department and request type?"
   ]
  },
  {
   "cell_type": "code",
   "execution_count": 31,
   "metadata": {},
   "outputs": [
    {
     "name": "stdout",
     "output_type": "stream",
     "text": [
      "+-------------------------+--------------------------------------+-------------+\n",
      "|dept_name                |service_request_type                  |avg_days_late|\n",
      "+-------------------------+--------------------------------------+-------------+\n",
      "|null                     |Zoning: Recycle Yard                  |135.93       |\n",
      "|Animal Care Services     |Trapped/Confined Animal               |0.25         |\n",
      "|Animal Care Services     |Stray Animal                          |-998.81      |\n",
      "|Animal Care Services     |Spay/Neuter Request Response          |-6.98        |\n",
      "|Animal Care Services     |Public Nuisance(Own Animal)           |-2.2         |\n",
      "|Animal Care Services     |Officer Standby                       |-0.07        |\n",
      "|Animal Care Services     |Injured Animal(Critical)              |-0.07        |\n",
      "|Animal Care Services     |City Council Animal Request           |-1.55        |\n",
      "|Animal Care Services     |Animal Permits Request                |22.2         |\n",
      "|Animal Care Services     |Animal Neglect                        |7.33         |\n",
      "|Animal Care Services     |Animal Cruelty(Critical)              |-0.06        |\n",
      "|Animal Care Services     |Animal Bite(Non-Critical)             |-2.51        |\n",
      "|Animal Care Services     |Animal Bite(Critical)                 |0.02         |\n",
      "|Animal Care Services     |Aggressive Animal(Non-Critical)       |2.65         |\n",
      "|Animal Care Services     |Aggressive Animal(Critical)           |16.7         |\n",
      "|City Council             |Request for Research/Information      |null         |\n",
      "|City Council             |CCO_Request for Research/Information_1|null         |\n",
      "|Code Enforcement Services|Zoning: Visual Obstruction            |-54.32       |\n",
      "|Code Enforcement Services|Zoning: Setbacks                      |-85.32       |\n",
      "|Code Enforcement Services|Zoning: Oversized Vehicles            |-4.67        |\n",
      "+-------------------------+--------------------------------------+-------------+\n",
      "only showing top 20 rows\n",
      "\n"
     ]
    }
   ],
   "source": [
    "case_source_dept.groupBy('dept_name','service_request_type').agg(round(mean(case_source_dept.num_days_late),2).alias('avg_days_late')).sort(asc('dept_name'),desc('service_request_type'),desc('avg_days_late')).show(truncate=False)"
   ]
  },
  {
   "cell_type": "code",
   "execution_count": 32,
   "metadata": {},
   "outputs": [
    {
     "name": "stdout",
     "output_type": "stream",
     "text": [
      "+----------------------------------------------+----+--------------------+------------+-------------------------+------------------+--------------------+------------+--------------------+----------------------+------------------------+\n",
      "|service_request_type                          |null|Animal Care Services|City Council|Code Enforcement Services|Customer Service  |Development Services|Metro Health|Parks and Recreation|Solid Waste Management|Trans & Cap Improvements|\n",
      "+----------------------------------------------+----+--------------------+------------+-------------------------+------------------+--------------------+------------+--------------------+----------------------+------------------------+\n",
      "|\"Vacant Lot-City (12\"\")\"                      |null|null                |null        |-45.218779679391076      |null              |null                |null        |null                |null                  |null                    |\n",
      "|\"Vacant Lot-City (48\"\")\"                      |null|null                |null        |-42.632767744083644      |null              |null                |null        |null                |null                  |null                    |\n",
      "|\"Vacant Lot-County (12\"\")\"                    |null|null                |null        |-36.232064043200005      |null              |null                |null        |null                |null                  |null                    |\n",
      "|\"Vacant Lot-County (48\"\")\"                    |null|null                |null        |-40.719087427423084      |null              |null                |null        |null                |null                  |null                    |\n",
      "|\"Vacant Lot-Private (12\"\")\"                   |null|null                |null        |-40.572909813375745      |null              |null                |null        |null                |null                  |null                    |\n",
      "|\"Vacant Lot-Private (48\"\")\"                   |null|null                |null        |-40.586750940029         |null              |null                |null        |null                |null                  |null                    |\n",
      "|\"Vacant Lot-State (12\"\")\"                     |null|null                |null        |-50.434000731157894      |null              |null                |null        |null                |null                  |null                    |\n",
      "|\"Vacant Lot-State (48\"\")\"                     |null|null                |null        |-42.925429012933336      |null              |null                |null        |null                |null                  |null                    |\n",
      "|1st Call Bagged Leaves                        |null|null                |null        |null                     |null              |null                |null        |null                |-3.868991989858197    |null                    |\n",
      "|2nd Call Bagged Leaves                        |null|null                |null        |null                     |null              |null                |null        |null                |-4.21210716234353     |null                    |\n",
      "|3rd Call Bagged Leaves with Fee               |null|null                |null        |null                     |null              |null                |null        |null                |-3.152896412          |null                    |\n",
      "|ADA Infrastructure Complaint/Grievance        |null|null                |null        |null                     |null              |null                |null        |null                |null                  |-11.841508137           |\n",
      "|ADA Obstructions                              |null|null                |null        |-13.22349537             |null              |null                |null        |null                |null                  |null                    |\n",
      "|Absentee Property Assessment-Posting          |null|null                |null        |-14.231748829519534      |null              |null                |null        |null                |null                  |null                    |\n",
      "|Accident Problem Investigation                |null|null                |null        |null                     |null              |null                |null        |null                |null                  |-22.97103045993122      |\n",
      "|Additional Cart Request                       |null|null                |null        |null                     |null              |null                |null        |null                |-5.063509766847671    |null                    |\n",
      "|Additional Garbage Container - with Fee       |null|null                |null        |null                     |null              |null                |null        |null                |-2.920198210360159    |null                    |\n",
      "|Additional Organics Cart Request              |null|null                |null        |null                     |null              |null                |null        |null                |-5.997874052909091    |null                    |\n",
      "|Aggressive Animal(Critical)                   |null|16.69636881189224   |null        |null                     |null              |null                |null        |null                |null                  |null                    |\n",
      "|Aggressive Animal(Non-Critical)               |null|2.645033883163268   |null        |null                     |null              |null                |null        |null                |null                  |null                    |\n",
      "|All-Way Stop Study                            |null|null                |null        |null                     |null              |null                |null        |null                |null                  |-35.852216974466664     |\n",
      "|Alley Address Required                        |null|null                |null        |-2.6345046288000002      |null              |null                |null        |null                |null                  |null                    |\n",
      "|Alley Problems                                |null|null                |null        |null                     |null              |null                |null        |null                |4.549660560465517     |null                    |\n",
      "|Alley-Way Maintenance                         |null|null                |null        |-46.19059095706961       |null              |null                |null        |null                |null                  |null                    |\n",
      "|Amenity Park Improvement                      |null|null                |null        |null                     |null              |null                |null        |9.641261768722687   |null                  |null                    |\n",
      "|Amenity Park Improvement Int                  |null|null                |null        |null                     |null              |null                |null        |-5.411793981        |null                  |null                    |\n",
      "|Animal Bite(Critical)                         |null|0.019096834813110173|null        |null                     |null              |null                |null        |null                |null                  |null                    |\n",
      "|Animal Bite(Non-Critical)                     |null|-2.505667547973447  |null        |null                     |null              |null                |null        |null                |null                  |null                    |\n",
      "|Animal Cruelty(Critical)                      |null|-0.06219277353522766|null        |null                     |null              |null                |null        |null                |null                  |null                    |\n",
      "|Animal Investigation Referral                 |null|null                |null        |-40.95604321             |null              |null                |null        |null                |null                  |null                    |\n",
      "|Animal Neglect                                |null|7.332927878069383   |null        |null                     |null              |null                |null        |null                |null                  |null                    |\n",
      "|Animal Permits Request                        |null|22.19792271447681   |null        |null                     |null              |null                |null        |null                |null                  |null                    |\n",
      "|Automation Property Damage                    |null|null                |null        |null                     |null              |null                |null        |null                |3.7111600885405407    |null                    |\n",
      "|Ballfields                                    |null|null                |null        |null                     |null              |null                |null        |-2.4068484096555918 |null                  |null                    |\n",
      "|Bandit Signs                                  |null|null                |null        |-4.479319586874467       |null              |null                |null        |null                |null                  |null                    |\n",
      "|Barricade                                     |null|null                |null        |null                     |null              |null                |null        |null                |null                  |-1.6085724997620967     |\n",
      "|Barricade Pick Up                             |null|null                |null        |null                     |null              |null                |null        |null                |null                  |-6.970131891220689      |\n",
      "|Base/Pavement Repair                          |null|null                |null        |null                     |null              |null                |null        |null                |null                  |-109.97756630223758     |\n",
      "|Basketball Goals on R.O.W.                    |null|null                |null        |-4.802607754183886       |null              |null                |null        |null                |null                  |null                    |\n",
      "|Bicycle Lane/Route New Request                |null|null                |null        |null                     |null              |null                |null        |null                |null                  |-8.30148443631915       |\n",
      "|Boarding Home Inspection                      |null|null                |null        |12.732003113287357       |null              |null                |null        |null                |null                  |null                    |\n",
      "|Brush - Out of Cycle Collection - Fee Required|null|null                |null        |null                     |null              |null                |null        |null                |-4.316590201619215    |null                    |\n",
      "|Brush / Bulky Miscellaneous                   |null|null                |null        |null                     |null              |null                |null        |null                |-3.0420300215330744   |null                    |\n",
      "|Brush Missed Pick up                          |null|null                |null        |null                     |null              |null                |null        |null                |-5.879397585624516    |null                    |\n",
      "|Brush No Notice                               |null|null                |null        |null                     |null              |null                |null        |null                |-2.9385219946962464   |null                    |\n",
      "|Brush Partial Pick Up                         |null|null                |null        |null                     |null              |null                |null        |null                |-5.288008891714286    |null                    |\n",
      "|Brush Property Damage                         |null|null                |null        |null                     |null              |null                |null        |null                |-4.930477772768818    |null                    |\n",
      "|Brush Violations                              |null|null                |null        |-56.71521388214979       |null              |null                |null        |null                |null                  |null                    |\n",
      "|Brush-non Compliance Notice                   |null|null                |null        |null                     |null              |null                |null        |null                |-2.7342875787021277   |null                    |\n",
      "|Brush/Debris Collection                       |null|null                |null        |null                     |null              |null                |null        |-0.6721451203840304 |null                  |null                    |\n",
      "|Brush_Received Invoice                        |null|null                |null        |null                     |null              |null                |null        |null                |-7.2242939814         |null                    |\n",
      "|Bulk Missed Pick up                           |null|null                |null        |null                     |null              |null                |null        |null                |-3.4475298080848136   |null                    |\n",
      "|Bulk Partial Pick Up                          |null|null                |null        |null                     |null              |null                |null        |null                |-0.4594032677115385   |null                    |\n",
      "|Bulk no Notice                                |null|null                |null        |null                     |null              |null                |null        |null                |-2.998967278570978    |null                    |\n",
      "|Bulk-non Compliance Notice                    |null|null                |null        |null                     |null              |null                |null        |null                |-1.628984374857143    |null                    |\n",
      "|Bulk_Received Invoice                         |null|null                |null        |null                     |null              |null                |null        |null                |-4.458275463          |null                    |\n",
      "|CCO_Request for Research/Information_1        |null|null                |null        |null                     |null              |null                |null        |null                |null                  |null                    |\n",
      "|CPS Energy Metal Poles                        |null|null                |null        |-129.1791978642777       |null              |null                |null        |null                |null                  |null                    |\n",
      "|CPS Energy Towers                             |null|null                |null        |-129.84778717829747      |null              |null                |null        |null                |null                  |null                    |\n",
      "|CPS Energy Wood Poles                         |null|null                |null        |-129.30905202721226      |null              |null                |null        |null                |null                  |null                    |\n",
      "|Carpentry                                     |null|null                |null        |null                     |null              |null                |null        |0.5074417902093622  |null                  |null                    |\n",
      "|Cart Delivery                                 |null|null                |null        |null                     |null              |null                |null        |null                |-3.263870402382655    |null                    |\n",
      "|Cart Exchange Request                         |null|null                |null        |null                     |null              |null                |null        |null                |-3.527041146943587    |null                    |\n",
      "|Cart PickUp                                   |null|null                |null        |null                     |null              |null                |null        |null                |-3.5665442573160866   |null                    |\n",
      "|Cart Pickup                                   |null|null                |null        |null                     |null              |null                |null        |null                |-3.743059165680054    |null                    |\n",
      "|Cart Placement                                |null|null                |null        |null                     |null              |null                |null        |null                |10.44400618901405     |null                    |\n",
      "|Cart removed from Service                     |null|null                |null        |null                     |null              |null                |null        |null                |-1.537679398222222    |null                    |\n",
      "|Certificates of Occupancy                     |null|null                |null        |-92.57815517679504       |null              |null                |null        |null                |null                  |null                    |\n",
      "|City Council Animal Request                   |null|-1.5475013634821913 |null        |null                     |null              |null                |null        |null                |null                  |null                    |\n",
      "|Complaint                                     |null|null                |null        |null                     |72.8705023031169  |null                |null        |null                |null                  |null                    |\n",
      "|Compliment                                    |null|null                |null        |null                     |-8.030188146545843|null                |null        |null                |null                  |null                    |\n",
      "|Concrete Infrastructure Repair                |null|null                |null        |null                     |null              |null                |null        |null                |null                  |-20.867537014422084     |\n",
      "|Contracted Service Issues                     |null|null                |null        |null                     |null              |null                |null        |null                |56.72045236025        |null                    |\n",
      "|Curb or Sidewalk Investigation                |null|null                |null        |null                     |null              |null                |null        |null                |null                  |-10.7098559053726       |\n",
      "|Curbstoning                                   |null|null                |null        |59.808628977605274       |null              |null                |null        |null                |null                  |null                    |\n",
      "|DSDB Ordered/Hold Harmless/Regular-ALL        |null|null                |null        |-4.657175546620441       |null              |null                |null        |null                |null                  |null                    |\n",
      "|DSDB Ordered/Hold Harmless/Regular: ASEC      |null|null                |null        |-22.5688841082           |null              |null                |null        |null                |null                  |null                    |\n",
      "|DSDB Ordered/Hold Harmless/Regular: Main      |null|null                |null        |-12.388873814519892      |null              |null                |null        |null                |null                  |null                    |\n",
      "|Damaged Cart                                  |null|null                |null        |null                     |null              |null                |null        |null                |-3.5030070988018145   |null                    |\n",
      "|Damaged Organics Cart                         |null|null                |null        |null                     |null              |null                |null        |null                |-1.9812731483333332   |null                    |\n",
      "|Dang Premises/Cut/Clean Only                  |null|null                |null        |-39.662047437062796      |null              |null                |null        |null                |null                  |null                    |\n",
      "|Dang Premises/Secure Only                     |null|null                |null        |-39.85677104811111       |null              |null                |null        |null                |null                  |null                    |\n",
      "|Dang. Premises/CL/SEC                         |null|null                |null        |-40.24911126618039       |null              |null                |null        |null                |null                  |null                    |\n",
      "|Darner Maintenance                            |null|null                |null        |null                     |null              |null                |null        |-1.949116966117647  |null                  |null                    |\n",
      "|Dart Preliminary Inspection                   |null|null                |null        |-3.2097208295800033      |null              |null                |null        |null                |null                  |null                    |\n",
      "|Dead Animal - Cat                             |null|null                |null        |null                     |null              |null                |null        |null                |-1.737019299177256    |null                    |\n",
      "|Dead Animal - Dog                             |null|null                |null        |null                     |null              |null                |null        |null                |-1.7014251591076528   |null                    |\n",
      "|Dead Animal - Misc                            |null|null                |null        |null                     |null              |null                |null        |null                |-1.721181453432804    |null                    |\n",
      "|Dead Animal - Private Property                |null|null                |null        |null                     |null              |null                |null        |null                |-2.702826922141361    |null                    |\n",
      "|Dead End/No Outlet Sign Request               |null|null                |null        |null                     |null              |null                |null        |null                |null                  |-22.956445638903226     |\n",
      "|Dead Trees: Private Property                  |null|null                |null        |-53.54495241131996       |null              |null                |null        |null                |null                  |null                    |\n",
      "|Dial-A-Trailer                                |null|null                |null        |null                     |null              |null                |null        |null                |-5.72394267417647     |null                    |\n",
      "|Disability Assistance Missed Pickup           |null|null                |null        |null                     |null              |null                |null        |null                |-0.850479138133881    |null                    |\n",
      "|Disability Service Requested                  |null|null                |null        |null                     |null              |null                |null        |null                |9.107444643519093     |null                    |\n",
      "|Discharge Into Pub. Waters/St                 |null|null                |null        |-47.19550598789131       |null              |null                |null        |null                |null                  |null                    |\n",
      "|Donation Container Enforcement                |null|null                |null        |131.75610506358706       |null              |null                |null        |null                |null                  |null                    |\n",
      "|Drainage Channel - Emergency                  |null|null                |null        |null                     |null              |null                |null        |null                |null                  |-0.013177496678571448   |\n",
      "|Drainage Channel - Surface Investigation      |null|null                |null        |null                     |null              |null                |null        |null                |null                  |-3.478050688512821      |\n",
      "|Drainage Channel Restoration                  |null|null                |null        |null                     |null              |null                |null        |null                |null                  |-32.87897183672917      |\n",
      "|Drainage Channel/Debris Removal               |null|null                |null        |null                     |null              |null                |null        |null                |null                  |-33.88601232539282      |\n",
      "+----------------------------------------------+----+--------------------+------------+-------------------------+------------------+--------------------+------------+--------------------+----------------------+------------------------+\n",
      "only showing top 100 rows\n",
      "\n"
     ]
    }
   ],
   "source": [
    "case_source_dept.groupBy('service_request_type').pivot('dept_name').mean('num_days_late').sort(asc('service_request_type')).show(100,truncate=False)"
   ]
  },
  {
   "cell_type": "code",
   "execution_count": null,
   "metadata": {},
   "outputs": [],
   "source": []
  }
 ],
 "metadata": {
  "kernelspec": {
   "display_name": "Python 3",
   "language": "python",
   "name": "python3"
  },
  "language_info": {
   "codemirror_mode": {
    "name": "ipython",
    "version": 3
   },
   "file_extension": ".py",
   "mimetype": "text/x-python",
   "name": "python",
   "nbconvert_exporter": "python",
   "pygments_lexer": "ipython3",
   "version": "3.7.4"
  }
 },
 "nbformat": 4,
 "nbformat_minor": 4
}
